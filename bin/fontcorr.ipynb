{
 "cells": [
  {
   "cell_type": "code",
   "execution_count": 2,
   "metadata": {},
   "outputs": [],
   "source": [
    "from lxml import etree as et\n",
    "import pathlib"
   ]
  },
  {
   "cell_type": "code",
   "execution_count": null,
   "metadata": {},
   "outputs": [],
   "source": [
    "here = pathlib.Path(pathlib.Path(\".\").absolute())\n",
    "workdir = here.parent / \"work\"\n",
    "docdir = here.parent / \"doc\" \n",
    "encfile = docdir / \"encoding_out.xml\""
   ]
  },
  {
   "cell_type": "code",
   "execution_count": 12,
   "metadata": {},
   "outputs": [],
   "source": [
    "doc = et.parse(encfile)"
   ]
  },
  {
   "cell_type": "code",
   "execution_count": 41,
   "metadata": {},
   "outputs": [],
   "source": [
    "from dataclasses import dataclass\n",
    "@dataclass\n",
    "class SwapLine:\n",
    "    name: str\n",
    "    input: str\n",
    "    cid: int\n",
    "    output: str\n",
    "\n",
    "    def __str__(self):\n",
    "        return f\"{self.name}|{self.input}|{self.cid}|{self.output}\"\n",
    "\n",
    "    def __hash__(self):\n",
    "        return hash((self.name, self.input, self.cid, self.output))"
   ]
  },
  {
   "cell_type": "code",
   "execution_count": 42,
   "metadata": {},
   "outputs": [],
   "source": [
    "def get_swapline(tr: et._Element) -> SwapLine:\n",
    "    return SwapLine(\n",
    "        tr[0].text,\n",
    "        tr[1].text,\n",
    "        int(tr[2].text or \"-1\"),\n",
    "        tr[3].text\n",
    "    )"
   ]
  },
  {
   "cell_type": "code",
   "execution_count": 43,
   "metadata": {},
   "outputs": [
    {
     "name": "stdout",
     "output_type": "stream",
     "text": [
      "135/162/5008\n"
     ]
    }
   ],
   "source": [
    "cnt = 0\n",
    "outcnt = 0\n",
    "swapset = set()\n",
    "for row in doc.xpath(\"//tr\"):\n",
    "    line = get_swapline(row)\n",
    "    if line.input != line.output:\n",
    "        # print(line)\n",
    "        swapset.add(line)\n",
    "        outcnt += 1\n",
    "    cnt += 1\n",
    "length = len(swapset)\n",
    "print(f\"{length}/{outcnt}/{cnt}\")"
   ]
  },
  {
   "cell_type": "code",
   "execution_count": 44,
   "metadata": {},
   "outputs": [],
   "source": [
    "ret = {}\n",
    "for line in swapset:\n",
    "    font = ret.get(line.name, [])\n",
    "    font.append((line.input, line.output, line.cid))\n",
    "    ret[line.name] = font"
   ]
  },
  {
   "cell_type": "code",
   "execution_count": 50,
   "metadata": {},
   "outputs": [],
   "source": [
    "def mk_name(s: str) -> str:\n",
    "    s = s.lower()\n",
    "    s = s.replace(\"-\", \"_\")\n",
    "    return s"
   ]
  },
  {
   "cell_type": "code",
   "execution_count": 74,
   "metadata": {},
   "outputs": [],
   "source": [
    "def sanity_check(swaps):\n",
    "    \"\"\"Sanity check of swapping table.\"\"\"\n",
    "    seen = set()\n",
    "    dupes = [x[0] for x in swaps if x[0] in seen or seen.add(x[0])]\n",
    "    if dupes:\n",
    "        # print(dupes)\n",
    "        for d in dupes:\n",
    "            print(f\"    Duplicate: \\\\u{ord(d):04x}\")"
   ]
  },
  {
   "cell_type": "code",
   "execution_count": 100,
   "metadata": {},
   "outputs": [],
   "source": [
    "with open(workdir / \"swaps.py\", \"w\", encoding=\"UTF-8\") as outfile:\n",
    "    outfile.write(\"swaptables = {\\n\")\n",
    "    for fontname in sorted(ret.keys()):\n",
    "        # print(fontname)\n",
    "        outfile.write(f\"    \\\"{fontname}\\\": {{\\n\")\n",
    "        swaps = ret[fontname]\n",
    "        # sanity_check(swaps)\n",
    "        # outfile.write(\"        \\\"swap\\\": {\\n\")\n",
    "        swaps.sort(key=lambda x: (ord(x[0]), x[2]))\n",
    "        for swap in swaps:\n",
    "            outfile.write(\"        \")\n",
    "            outfile.write(f\"u\\\"\\\\u{ord(swap[0]):04x}\\\": (\")\n",
    "            outfile.write(\"u\\\"\")\n",
    "            if len(swap[1]) < 2:\n",
    "                outfile.write(f\"\\\\u{ord(swap[1]):04x}\\\", {swap[2]}),\\n\")\n",
    "            else:\n",
    "                outfile.write(swap[1][0:-1])\n",
    "                outfile.write(f\"\\\\u{ord(swap[1][-1]):04x}\\\", {swap[2]}),\\n\")\n",
    "        outfile.write(\"    },\\n\")\n",
    "        # outfile.write(\"        \\\"cid_swap\\\": {\\n\")\n",
    "        # swaps.sort(key=lambda x: (x[2], ord(x[0])))\n",
    "        # for swap in swaps:\n",
    "        #     outfile.write(\"            \")\n",
    "        #     outfile.write(f\"{swap[2]: }: \")\n",
    "        #     outfile.write(\"u\\\"\")\n",
    "        #     if len(swap[1]) < 2:\n",
    "        #         outfile.write(f\"\\\\u{ord(swap[1]):04x}\\\",\\n\")\n",
    "        #     else:\n",
    "        #         outfile.write(swap[1][0:-1])\n",
    "        #         outfile.write(f\"\\\\u{ord(swap[1][-1]):04x}\\\",\\n\")\n",
    "        # outfile.write(\"        },\\n\")\n",
    "        # outfile.write(\"    },\\n\")\n",
    "    outfile.write(\"}\\n\")"
   ]
  },
  {
   "cell_type": "code",
   "execution_count": null,
   "metadata": {},
   "outputs": [],
   "source": []
  }
 ],
 "metadata": {
  "interpreter": {
   "hash": "3d6ea0cdc7221a79d494a18738d2d926edd7829a30d9863a46db646a1d1604ea"
  },
  "kernelspec": {
   "display_name": "Python 3.9.12 ('anapdf')",
   "language": "python",
   "name": "python3"
  },
  "language_info": {
   "codemirror_mode": {
    "name": "ipython",
    "version": 3
   },
   "file_extension": ".py",
   "mimetype": "text/x-python",
   "name": "python",
   "nbconvert_exporter": "python",
   "pygments_lexer": "ipython3",
   "version": "3.9.12"
  },
  "orig_nbformat": 4
 },
 "nbformat": 4,
 "nbformat_minor": 2
}
